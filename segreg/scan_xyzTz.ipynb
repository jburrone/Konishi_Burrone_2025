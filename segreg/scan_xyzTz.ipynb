{
  "nbformat": 4,
  "nbformat_minor": 0,
  "metadata": {
    "colab": {
      "provenance": [],
      "gpuType": "T4"
    },
    "kernelspec": {
      "name": "python3",
      "display_name": "Python 3"
    },
    "language_info": {
      "name": "python"
    },
    "accelerator": "GPU"
  },
  "cells": [
    {
      "cell_type": "code",
      "source": [
        "#\n",
        "# multimodal image registration x,y,z,Tz batch\n",
        "#"
      ],
      "metadata": {
        "id": "YoQXHQLIh-OP"
      },
      "execution_count": null,
      "outputs": []
    },
    {
      "cell_type": "code",
      "execution_count": null,
      "metadata": {
        "colab": {
          "base_uri": "https://localhost:8080/"
        },
        "id": "jDmF7qdXeEQM",
        "outputId": "18b378ae-0a01-4d6d-da13-d8749ee3923c"
      },
      "outputs": [
        {
          "output_type": "stream",
          "name": "stdout",
          "text": [
            "gpu\n"
          ]
        }
      ],
      "source": [
        "import torch\n",
        "from torchvision import transforms\n",
        "\n",
        "if torch.cuda.is_available():\n",
        "  device = torch.device(\"cuda:0\")\n",
        "  print(\"You are using a GPU. You can go to the next cell.\")\n",
        "else:\n",
        "  device = torch.device(\"cpu\")\n",
        "  print(\"You are using a CPU. You need to change runtime to GPU: Runtime > Change Runtime type.\")"
      ]
    },
    {
      "cell_type": "code",
      "source": [
        "from google.colab import drive\n",
        "drive.mount(\"/content/gdrive/\", force_remount=True)"
      ],
      "metadata": {
        "colab": {
          "base_uri": "https://localhost:8080/"
        },
        "id": "4VF6I1V7h-5e",
        "outputId": "4be05f49-efed-466d-e1e1-6abfd809c7f2"
      },
      "execution_count": null,
      "outputs": [
        {
          "output_type": "stream",
          "name": "stdout",
          "text": [
            "Mounted at /content/gdrive/\n"
          ]
        }
      ]
    },
    {
      "cell_type": "code",
      "source": [
        "import os\n",
        "_colab_dir = \"/content/gdrive/MyDrive/Colab Notebooks/segreg\"\n",
        "os.chdir(_colab_dir)\n",
        "print(os.getcwd())"
      ],
      "metadata": {
        "colab": {
          "base_uri": "https://localhost:8080/"
        },
        "id": "8i38FE_pt55T",
        "outputId": "06f3a1b4-0c92-4823-fad3-930fff36327f"
      },
      "execution_count": null,
      "outputs": [
        {
          "output_type": "stream",
          "name": "stdout",
          "text": [
            "/content/gdrive/MyDrive/Colab Notebooks/segreg\n"
          ]
        }
      ]
    },
    {
      "cell_type": "code",
      "source": [
        "import csv\n",
        "import glob\n",
        "import os\n",
        "import shutil\n",
        "import subprocess\n",
        "from dataclasses import dataclass"
      ],
      "metadata": {
        "id": "l7md9zLjWmIF"
      },
      "execution_count": null,
      "outputs": []
    },
    {
      "cell_type": "code",
      "source": [
        "@dataclass\n",
        "class CSVData:\n",
        "  mov_imgfile: str\n",
        "  mov_segfile: str\n",
        "  ref_imgfile: str\n",
        "  ref_segfile: str\n",
        "  ref_scale_var: float\n",
        "  left_bound: int\n",
        "  top_bound: int\n",
        "  width: int\n",
        "  height: int\n",
        "  min_z: int\n",
        "  max_z: int\n",
        "  z_step: int\n",
        "  tz_center: float"
      ],
      "metadata": {
        "id": "vo05l33QZ5_z"
      },
      "execution_count": null,
      "outputs": []
    },
    {
      "cell_type": "code",
      "source": [
        "def create_scan_xyzTz_command(directory, row_data):\n",
        "    \"\"\"\n",
        "    Constructs a well-formatted and robust command for scan_xyzTz.py\n",
        "\n",
        "    Args:\n",
        "        directory: folder containing scan_xyzTz.py\n",
        "        row_data\n",
        "            mov_imgfile (str): Name of the reference image file.\n",
        "            mov_seg_file (str): Name of the reference segmentation file.\n",
        "            ref_imgfile (str): Name of the moving image file.\n",
        "            ref_segfile (str): Name of the moving segmentation file.\n",
        "            ref_scale_var (float): Scaling value limit of the reference image.\n",
        "            xmi (int): Left bound pixel value of x search range.\n",
        "            xma (int): Right bound pixel value of x search range.\n",
        "            ymi (int): Top bound pixel value of y search range.\n",
        "            yma (int): Bottom bound pixel value of y search range.\n",
        "            zmi (int): Minimum z pxiel value of z search range.\n",
        "            zma (int): Maximum z pxiel value of z search range.\n",
        "            zstep (int): Step size for the z search.\n",
        "            tz_center (float): Center value of the z angle search in degrees.\n",
        "        Returns:\n",
        "            str: The complete command string ready for execution.\n",
        "    \"\"\"\n",
        "\n",
        "    command_args = [\n",
        "        \"python3\",\n",
        "        os.path.join(directory, \"scan_xyzTz.py\"),\n",
        "        \"-mov_imgfile\", os.path.join(directory, row_data.mov_imgfile),\n",
        "        \"-mov_segfile\", os.path.join(directory, row_data.mov_segfile),\n",
        "        \"-ref_imgfile\", os.path.join(directory, row_data.ref_imgfile),\n",
        "        \"-ref_segfile\", os.path.join(directory, row_data.ref_segfile),\n",
        "        \"-ref_scale_var\", str(row_data.ref_scale_var),\n",
        "        \"-xmi\", str(row_data.left_bound),\n",
        "        \"-xma\", str(int(row_data.left_bound) + int(row_data.width)),\n",
        "        \"-ymi\", str(row_data.top_bound),\n",
        "        \"-yma\", str(int(row_data.top_bound) + int(row_data.height)),\n",
        "        \"-zmi\", str(row_data.min_z),\n",
        "        \"-zma\", str(row_data.max_z),\n",
        "        \"-zstep\", str(row_data.z_step),\n",
        "        \"-angle\", str(row_data.tz_center)\n",
        "    ]\n",
        "\n",
        "    return \" \".join(command_args)"
      ],
      "metadata": {
        "id": "-laJ9tXIXnw7"
      },
      "execution_count": null,
      "outputs": []
    },
    {
      "cell_type": "code",
      "source": [
        "mov_imgfile = '373_231009_SoRa_Blk_20x1x_img.tif'\n",
        "mov_segfile = '373_231009_SoRa_Blk_20x1x_seg.tif'\n",
        "ref_imgfile = '373_230614_A1_Blk_Reg2_40x_img.tif'\n",
        "ref_segfile = '373_230614_A1_Blk_Reg2_40x_seg.tif'\n",
        "ref_scale_var = 0\n",
        "left_bound = 295\n",
        "right_bound = 565\n",
        "width = 90\n",
        "height = 180\n",
        "min_z = 10\n",
        "max_z = 15\n",
        "z_step = 1\n",
        "tz_center = 0\n",
        "results_dir = \"results\"\n",
        "directory = './'"
      ],
      "metadata": {
        "id": "z3rJDU8yXo9C"
      },
      "execution_count": null,
      "outputs": []
    },
    {
      "cell_type": "code",
      "source": [
        "row_data = CSVData(mov_imgfile, mov_segfile, ref_imgfile, ref_segfile, ref_scale_var, left_bound, right_bound, width, height, min_z, max_z, z_step, tz_center)"
      ],
      "metadata": {
        "id": "g3Wksz4DYecy"
      },
      "execution_count": null,
      "outputs": []
    },
    {
      "cell_type": "code",
      "source": [
        "results_dir += f\"_{row_data.mov_segfile[:-4]}_{row_data.ref_imgfile[:-4]}\""
      ],
      "metadata": {
        "id": "IIC3tj0waYCX"
      },
      "execution_count": null,
      "outputs": []
    },
    {
      "cell_type": "code",
      "source": [
        "if not os.path.isdir(directory + results_dir):\n",
        "  os.mkdir(directory + results_dir)"
      ],
      "metadata": {
        "id": "BpmvJ2gFZTM5"
      },
      "execution_count": null,
      "outputs": []
    },
    {
      "cell_type": "code",
      "source": [
        "cmd = create_scan_xyzTz_command(directory, row_data)"
      ],
      "metadata": {
        "colab": {
          "base_uri": "https://localhost:8080/"
        },
        "id": "QlDw2HU0iRd6",
        "outputId": "59ad8847-d792-48c8-d5e4-f6b7c0a19fc8"
      },
      "execution_count": null,
      "outputs": [
        {
          "output_type": "stream",
          "name": "stdout",
          "text": [
            "['python3', './scan_xyzTz.py', '-mov_imgfile', './373_231009_SoRa_Blk_20x1x_img.tif', '-mov_segfile', './373_231009_SoRa_Blk_20x1x_seg.tif', '-ref_imgfile', './373_230614_A1_Blk_Reg2_40x_img.tif', '-ref_segfile', './373_230614_A1_Blk_Reg2_40x_seg.tif', '-ref_scale_var', '0', '-xmi', '295', '-xma', '385', '-ymi', '565', '-yma', '745', '-zmi', '10', '-zma', '15', '-zstep', '1', '-angle', '0']\n"
          ]
        }
      ]
    },
    {
      "cell_type": "code",
      "source": [
        "subprocess.run(cmd, shell=True)"
      ],
      "metadata": {
        "colab": {
          "base_uri": "https://localhost:8080/"
        },
        "id": "hG_VwLfUAjzP",
        "outputId": "7152c7e7-7ca2-4020-c69b-5bcd12d873ff"
      },
      "execution_count": null,
      "outputs": [
        {
          "output_type": "execute_result",
          "data": {
            "text/plain": [
              "CompletedProcess(args='python3 ./scan_xyzTz.py -mov_imgfile ./373_231009_SoRa_Blk_20x1x_img.tif -mov_segfile ./373_231009_SoRa_Blk_20x1x_seg.tif -ref_imgfile ./373_230614_A1_Blk_Reg2_40x_img.tif -ref_segfile ./373_230614_A1_Blk_Reg2_40x_seg.tif -ref_scale_var 0 -xmi 295 -xma 385 -ymi 565 -yma 745 -zmi 10 -zma 15 -zstep 1 -angle 0', returncode=0)"
            ]
          },
          "metadata": {},
          "execution_count": 15
        }
      ]
    },
    {
      "cell_type": "code",
      "source": [
        "for tiffile in glob.glob(\"over*tif\"):\n",
        "  shutil.copy2(tiffile, os.path.join(directory + results_dir, tiffile))\n",
        "  os.remove(tiffile)\n",
        "\n",
        "for logfile in glob.glob(\"align_[xT]*_[1-9]*csv\"):\n",
        "  shutil.copy2(logfile, os.path.join(directory + results_dir, logfile))\n",
        "  os.remove(logfile)"
      ],
      "metadata": {
        "id": "kSEZ9gXhDR2X"
      },
      "execution_count": null,
      "outputs": []
    }
  ]
}